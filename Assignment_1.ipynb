{
 "cells": [
  {
   "cell_type": "raw",
   "id": "3c356551",
   "metadata": {},
   "source": [
    "1. In the below elements which of them are values or an expression? eg:- values can be integer or string and expressions will be mathematical operators.\n",
    "* \n",
    "'hello'\n",
    "-87.8\n",
    "- \n",
    "/ \n",
    "+\t\n",
    "6 \n"
   ]
  },
  {
   "cell_type": "code",
   "execution_count": 2,
   "id": "738d6e3a",
   "metadata": {},
   "outputs": [
    {
     "data": {
      "text/plain": [
       "6"
      ]
     },
     "execution_count": 2,
     "metadata": {},
     "output_type": "execute_result"
    }
   ],
   "source": [
    "# values or an expression\n",
    "'hello'\n",
    "-87.8\n",
    "6 "
   ]
  },
  {
   "cell_type": "raw",
   "id": "02c4978f",
   "metadata": {},
   "source": [
    "2. What is the difference between string and variable?"
   ]
  },
  {
   "cell_type": "markdown",
   "id": "b6f603c4",
   "metadata": {},
   "source": [
    "- String: any type of values that are present within single, double or 3 (single/double) quotes.\n",
    "    - eg: 'pallavi', \"saxena\", '''female''', \"\"\" engineer \"\"\", '1','2.3', '%', etc\n",
    "\n",
    "- Variable: memory location or a container that can hold any data type as a value.\n",
    "    - Variable name can only start with _ or alphabet not digits\n",
    "    - Variable name can contain digits from second character but not any special characters\n",
    "    - Variable name must not contain any spaces in between\n",
    "    - Variable names are case sensitive"
   ]
  },
  {
   "cell_type": "raw",
   "id": "4dd7f3d2",
   "metadata": {},
   "source": [
    "3. Describe three different data types."
   ]
  },
  {
   "cell_type": "markdown",
   "id": "7e31c11f",
   "metadata": {},
   "source": [
    "- Int: This is the class that supports values as integer values(positive or negative). Its limit depends on every system memory size.\n",
    "- Boolean: This is the class that supports only 2 values : True & False\n",
    "- Str: This is the class that supports any kind of values enclosed within single, double or 3 quotes. The value can be anything."
   ]
  },
  {
   "cell_type": "raw",
   "id": "efc1b3be",
   "metadata": {},
   "source": [
    "4. What is an expression made up of? What do all expressions do?"
   ]
  },
  {
   "cell_type": "markdown",
   "id": "86083456",
   "metadata": {},
   "source": [
    "- an expression is made up of any data type values(operands), operators.\n",
    "- All expressions get evaluated to 1 value.\n",
    "- eg: 3 + 5, 's'*4,etc"
   ]
  },
  {
   "cell_type": "raw",
   "id": "90dd0d62",
   "metadata": {},
   "source": [
    "5. This assignment statements, like spam = 10. What is the difference between an expression and a statement?"
   ]
  },
  {
   "cell_type": "markdown",
   "id": "3722d38c",
   "metadata": {},
   "source": [
    "- Expression can only be the combination of any data type values(operands) & operators which is calculated to 1 single value.\n",
    "- Statement can be anything present either in 1 line or multiple lines which is not evaluated to 1 single value."
   ]
  },
  {
   "cell_type": "raw",
   "id": "b30dfb2f",
   "metadata": {},
   "source": [
    "6. After running the following code, what does the variable bacon contain?\n",
    "bacon = 22\n",
    "bacon + 1"
   ]
  },
  {
   "cell_type": "markdown",
   "id": "4cfcae4a",
   "metadata": {},
   "source": [
    "the variable bacon will contain value equal to \n",
    "### 22"
   ]
  },
  {
   "cell_type": "raw",
   "id": "1f9e68fe",
   "metadata": {},
   "source": [
    "7. What should the values of the following two terms be?\n",
    "'spam' + 'spamspam'\n",
    "'spam' * 3"
   ]
  },
  {
   "cell_type": "raw",
   "id": "050c9127",
   "metadata": {},
   "source": [
    "Answer:\n",
    "'spam' + 'spamspam' => 'spamspamspam'\n",
    "'spam' * 3 => 'spamspamspam'"
   ]
  },
  {
   "cell_type": "raw",
   "id": "16b86d3d",
   "metadata": {},
   "source": [
    "8. Why is eggs a valid variable name while 100 is invalid?"
   ]
  },
  {
   "cell_type": "markdown",
   "id": "47a316d4",
   "metadata": {},
   "source": [
    "- Because a variable name can start with an alphabet but not with a digit."
   ]
  },
  {
   "cell_type": "raw",
   "id": "55e699fa",
   "metadata": {},
   "source": [
    "9. What three functions can be used to get the integer, floating-point number, or string version of a value?"
   ]
  },
  {
   "cell_type": "markdown",
   "id": "ee6fae9a",
   "metadata": {},
   "source": [
    "- int(), float() & str()"
   ]
  },
  {
   "cell_type": "raw",
   "id": "ca50226d",
   "metadata": {},
   "source": [
    "10. Why does this expression cause an error? How can you fix it?\n",
    "'I have eaten ' + 99 + ' burritos.'"
   ]
  },
  {
   "cell_type": "markdown",
   "id": "30b44622",
   "metadata": {},
   "source": [
    "- The above expression throws an error 2 different data types can not concanated. Here it is trying to concate string and integer.\n",
    "- It can be fixed by several ways. Below are 2 different ways\n",
    "    - 'I have eaten ' + str(99) + ' burritos.'\n",
    "    - f'I have eaten {99} burritos.'"
   ]
  },
  {
   "cell_type": "code",
   "execution_count": null,
   "id": "c423e338",
   "metadata": {},
   "outputs": [],
   "source": []
  }
 ],
 "metadata": {
  "kernelspec": {
   "display_name": "Python 3 (ipykernel)",
   "language": "python",
   "name": "python3"
  },
  "language_info": {
   "codemirror_mode": {
    "name": "ipython",
    "version": 3
   },
   "file_extension": ".py",
   "mimetype": "text/x-python",
   "name": "python",
   "nbconvert_exporter": "python",
   "pygments_lexer": "ipython3",
   "version": "3.9.6"
  }
 },
 "nbformat": 4,
 "nbformat_minor": 5
}
